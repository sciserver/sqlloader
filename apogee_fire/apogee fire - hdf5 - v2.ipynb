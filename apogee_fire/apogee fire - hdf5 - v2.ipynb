{
 "cells": [
  {
   "cell_type": "code",
   "execution_count": 10,
   "metadata": {},
   "outputs": [],
   "source": [
    "import h5py\n",
    "import matplotlib.pyplot as plt\n",
    "import random\n",
    "import pandas\n",
    "import numpy as np\n",
    "import os\n",
    "from astropy import units as u\n",
    "import SciServer.CasJobs as cj"
   ]
  },
  {
   "cell_type": "raw",
   "metadata": {},
   "source": [
    "%pip install HMpTy"
   ]
  },
  {
   "cell_type": "raw",
   "metadata": {},
   "source": [
    "%pip install astropy_healpix"
   ]
  },
  {
   "cell_type": "code",
   "execution_count": 2,
   "metadata": {},
   "outputs": [],
   "source": [
    "import HMpTy\n",
    "from astropy_healpix import HEALPix"
   ]
  },
  {
   "cell_type": "code",
   "execution_count": 3,
   "metadata": {},
   "outputs": [
    {
     "data": {
      "text/plain": [
       "'/home/idies/workspace/virgo/apogee_fire/CSV/lsr-2-rslice-1.m12i-res7100-md-sliced-gcat-dr2-apogee-2mass-test-orig-dtype.wHTMetc.csv'"
      ]
     },
     "execution_count": 3,
     "metadata": {},
     "output_type": "execute_result"
    }
   ],
   "source": [
    "folder='/home/idies/workspace/virgo_filedb/data05_01/apogee_fire/'\n",
    "csvfolder=f'/home/idies/workspace/virgo/apogee_fire/CSV/'\n",
    "os.makedirs(csvfolder,exist_ok=True)\n",
    "\n",
    "# file='lsr-2-rslice-1.m12i-res7100-md-sliced-gcat-dr2-apogee-2mass-test.hdf5'\n",
    "file='lsr-2-rslice-1.m12i-res7100-md-sliced-gcat-dr2-apogee-2mass-test-orig-dtype.hdf5'\n",
    "\n",
    "path=f'{folder}{file}'\n",
    "csvfile=f'{csvfolder}{file.replace(\".hdf5\",\".wHTMetc.csv\")}'\n",
    "csvfile"
   ]
  },
  {
   "cell_type": "code",
   "execution_count": 4,
   "metadata": {},
   "outputs": [],
   "source": [
    "hdf5_file=h5py.File(path,mode='r')"
   ]
  },
  {
   "cell_type": "code",
   "execution_count": 6,
   "metadata": {},
   "outputs": [],
   "source": [
    "# depth 20 corresponds to HTM indexes in SDSS CAS databases\n",
    "htm20 = HMpTy.HTM(depth=20)"
   ]
  },
  {
   "cell_type": "code",
   "execution_count": 7,
   "metadata": {},
   "outputs": [
    {
     "name": "stdout",
     "output_type": "stream",
     "text": [
      "nside= 1048576  depth= 20.0\n",
      "HEALPIx resolution in arcsec: 0.20129803194242613\n"
     ]
    }
   ],
   "source": [
    "# determine healpix nside required to get pixel area close to HTM pixel area\n",
    "nside=int(pow(2,np.round(np.log2(np.sqrt(4*np.pi/12/(htm20.area*np.square(np.pi/180)))))))\n",
    "print(\"nside=\",nside,\" depth=\",np.round(np.log2(nside)))\n",
    "healp = HEALPix(nside=nside, order='nested')\n",
    "print(\"HEALPIx resolution in arcsec:\",healp.pixel_resolution.value*60)"
   ]
  },
  {
   "cell_type": "code",
   "execution_count": 56,
   "metadata": {},
   "outputs": [],
   "source": [
    "\n",
    "keys=hdf5_file.keys()\n",
    "# reorder columns so that source_id is first\n",
    "ndim=len(hdf5_file['source_id'])\n",
    "cols=['source_id']+[c for c in keys if c not in ['source_id']]"
   ]
  },
  {
   "cell_type": "code",
   "execution_count": 65,
   "metadata": {},
   "outputs": [
    {
     "name": "stdout",
     "output_type": "stream",
     "text": [
      "100000\n",
      "200000\n",
      "300000\n",
      "400000\n",
      "500000\n",
      "600000\n",
      "700000\n",
      "800000\n",
      "900000\n",
      "1000000\n",
      "1100000\n",
      "1200000\n",
      "1300000\n",
      "1400000\n",
      "1500000\n",
      "1600000\n",
      "1700000\n",
      "1800000\n",
      "1900000\n",
      "2000000\n",
      "2100000\n",
      "2200000\n",
      "2300000\n",
      "2400000\n",
      "2500000\n",
      "2600000\n",
      "2700000\n",
      "2800000\n",
      "2900000\n",
      "CPU times: user 13min 38s, sys: 13.4 s, total: 13min 52s\n",
      "Wall time: 14min 7s\n"
     ]
    }
   ],
   "source": [
    "%%time\n",
    "header = True\n",
    "batch=100000\n",
    "i=0\n",
    "while True:\n",
    "    df = pandas.DataFrame()\n",
    "    n=min(i+batch,ndim-1)\n",
    "    for key in cols:\n",
    "        df[key]=hdf5_file[key][i:n]\n",
    "    df['htmid']=htm20.lookup_id(df['ra'],df['dec'])\n",
    "    df['healpixId']=healp.lonlat_to_healpix(df['l'].values*u.deg,df['b'].values*u.deg)\n",
    "    mode='a'\n",
    "    if header:\n",
    "        mode='w'\n",
    "    df.to_csv(csvfile, header=header, mode=mode,index=False)\n",
    "    i+=batch\n",
    "    print(i)\n",
    "    header = False\n",
    "    if i>= ndim:\n",
    "        break"
   ]
  },
  {
   "cell_type": "markdown",
   "metadata": {},
   "source": [
    "# define DDL"
   ]
  },
  {
   "cell_type": "code",
   "execution_count": 59,
   "metadata": {},
   "outputs": [],
   "source": [
    "typed_cols=zip(df.columns,[str(t) for t in df.dtypes])"
   ]
  },
  {
   "cell_type": "code",
   "execution_count": 50,
   "metadata": {},
   "outputs": [],
   "source": [
    "def gettype(t):\n",
    "    if t == \"float32\":\n",
    "        return \"REAL\"\n",
    "    elif t == \"float64\":\n",
    "        return \"FLOAT\"\n",
    "    elif t == \"uint16\":\n",
    "        return 'SMALLINT'\n",
    "    elif t == \"int16\":\n",
    "        return 'SMALLINT'\n",
    "    elif t == \"uint64\":\n",
    "        return \"BIGINT\"\n",
    "    elif t == \"int64\":\n",
    "        return \"BIGINT\"\n",
    "    return t"
   ]
  },
  {
   "cell_type": "code",
   "execution_count": 60,
   "metadata": {
    "scrolled": true
   },
   "outputs": [
    {
     "name": "stdout",
     "output_type": "stream",
     "text": [
      "CREATE TABLE TEST_M12i_v2 (\n",
      "[source_id] BIGINT\n",
      ",  [2MASS_magH] REAL\n",
      ",  [2MASS_magH_error] REAL\n",
      ",  [2MASS_magH_int] REAL\n",
      ",  [2MASS_magH_true] REAL\n",
      ",  [2MASS_magJ] REAL\n",
      ",  [2MASS_magJ_error] REAL\n",
      ",  [2MASS_magJ_int] REAL\n",
      ",  [2MASS_magJ_true] REAL\n",
      ",  [2MASS_magKs] REAL\n",
      ",  [2MASS_magKs_error] REAL\n",
      ",  [2MASS_magKs_int] REAL\n",
      ",  [2MASS_magKs_true] REAL\n",
      ",  [A0] REAL\n",
      ",  [CFe-APOGEE] REAL\n",
      ",  [CaFe-APOGEE] REAL\n",
      ",  [FeH-APOGEE] REAL\n",
      ",  [MgFe-APOGEE] REAL\n",
      ",  [NFe-APOGEE] REAL\n",
      ",  [OFe-APOGEE] REAL\n",
      ",  [SFe-APOGEE] REAL\n",
      ",  [SiFe-APOGEE] REAL\n",
      ",  [a_g_bp_val] REAL\n",
      ",  [a_g_rp_val] REAL\n",
      ",  [a_g_val] REAL\n",
      ",  [age] REAL\n",
      ",  [alpha] REAL\n",
      ",  [b] FLOAT\n",
      ",  [b_true] FLOAT\n",
      ",  [bp_g] REAL\n",
      ",  [bp_g_int] REAL\n",
      ",  [bp_g_true] REAL\n",
      ",  [bp_rp] REAL\n",
      ",  [bp_rp_int] REAL\n",
      ",  [bp_rp_true] REAL\n",
      ",  [calcium] REAL\n",
      ",  [carbon] REAL\n",
      ",  [dec] FLOAT\n",
      ",  [dec_error] FLOAT\n",
      ",  [dec_true] FLOAT\n",
      ",  [dhel_true] FLOAT\n",
      ",  [dmod_true] FLOAT\n",
      ",  [e_bp_min_rp_val] REAL\n",
      ",  [ebv] REAL\n",
      ",  [feh] REAL\n",
      ",  [g_rp] REAL\n",
      ",  [g_rp_int] REAL\n",
      ",  [g_rp_true] REAL\n",
      ",  [helium] REAL\n",
      ",  [l] FLOAT\n",
      ",  [l_true] FLOAT\n",
      ",  [logg] REAL\n",
      ",  [lognh] REAL\n",
      ",  [lum_val] REAL\n",
      ",  [mact] REAL\n",
      ",  [magnesium] REAL\n",
      ",  [mini] REAL\n",
      ",  [mtip] REAL\n",
      ",  [neon] REAL\n",
      ",  [nitrogen] REAL\n",
      ",  [oxygen] REAL\n",
      ",  [parallax] FLOAT\n",
      ",  [parallax_error] FLOAT\n",
      ",  [parallax_over_error] REAL\n",
      ",  [parallax_true] FLOAT\n",
      ",  [parentid] BIGINT\n",
      ",  [partid] SMALLINT\n",
      ",  [phot_bp_mean_mag] REAL\n",
      ",  [phot_bp_mean_mag_error] REAL\n",
      ",  [phot_bp_mean_mag_int] REAL\n",
      ",  [phot_bp_mean_mag_true] REAL\n",
      ",  [phot_g_mean_mag] REAL\n",
      ",  [phot_g_mean_mag_error] REAL\n",
      ",  [phot_g_mean_mag_int] REAL\n",
      ",  [phot_g_mean_mag_true] REAL\n",
      ",  [phot_rp_mean_mag] REAL\n",
      ",  [phot_rp_mean_mag_error] REAL\n",
      ",  [phot_rp_mean_mag_int] REAL\n",
      ",  [phot_rp_mean_mag_true] REAL\n",
      ",  [pmb_true] FLOAT\n",
      ",  [pmdec] FLOAT\n",
      ",  [pmdec_error] FLOAT\n",
      ",  [pmdec_true] FLOAT\n",
      ",  [pml_true] FLOAT\n",
      ",  [pmra] FLOAT\n",
      ",  [pmra_error] FLOAT\n",
      ",  [pmra_true] FLOAT\n",
      ",  [px_true] FLOAT\n",
      ",  [py_true] FLOAT\n",
      ",  [pz_true] FLOAT\n",
      ",  [ra] FLOAT\n",
      ",  [ra_error] FLOAT\n",
      ",  [ra_true] FLOAT\n",
      ",  [radial_velocity] FLOAT\n",
      ",  [radial_velocity_error] FLOAT\n",
      ",  [radial_velocity_true] FLOAT\n",
      ",  [random_index] BIGINT\n",
      ",  [silicon] REAL\n",
      ",  [sulphur] REAL\n",
      ",  [teff_val] REAL\n",
      ",  [vx_true] FLOAT\n",
      ",  [vy_true] FLOAT\n",
      ",  [vz_true] FLOAT\n",
      ",  [htmid] BIGINT\n",
      ",  [healpixId] BIGINT)\n"
     ]
    }
   ],
   "source": [
    "TABLE='TEST_M12i_v2'\n",
    "columns=[f\"[{c}] {gettype(t)}\" for c,t in typed_cols]\n",
    "newline='\\n'\n",
    "ddl=f\"CREATE TABLE {TABLE} ({newline}{(newline+',  ').join(columns)})\"\n",
    "print(ddl)"
   ]
  },
  {
   "cell_type": "code",
   "execution_count": 61,
   "metadata": {
    "scrolled": false
   },
   "outputs": [
    {
     "name": "stdout",
     "output_type": "stream",
     "text": [
      "\n",
      "select sum(case when [source_id] is null then 1 else 0 end) as [source_id]\n",
      ",      sum(case when [2MASS_magH] is null then 1 else 0 end) as [2MASS_magH]\n",
      ",      sum(case when [2MASS_magH_error] is null then 1 else 0 end) as [2MASS_magH_error]\n",
      ",      sum(case when [2MASS_magH_int] is null then 1 else 0 end) as [2MASS_magH_int]\n",
      ",      sum(case when [2MASS_magH_true] is null then 1 else 0 end) as [2MASS_magH_true]\n",
      ",      sum(case when [2MASS_magJ] is null then 1 else 0 end) as [2MASS_magJ]\n",
      ",      sum(case when [2MASS_magJ_error] is null then 1 else 0 end) as [2MASS_magJ_error]\n",
      ",      sum(case when [2MASS_magJ_int] is null then 1 else 0 end) as [2MASS_magJ_int]\n",
      ",      sum(case when [2MASS_magJ_true] is null then 1 else 0 end) as [2MASS_magJ_true]\n",
      ",      sum(case when [2MASS_magKs] is null then 1 else 0 end) as [2MASS_magKs]\n",
      ",      sum(case when [2MASS_magKs_error] is null then 1 else 0 end) as [2MASS_magKs_error]\n",
      ",      sum(case when [2MASS_magKs_int] is null then 1 else 0 end) as [2MASS_magKs_int]\n",
      ",      sum(case when [2MASS_magKs_true] is null then 1 else 0 end) as [2MASS_magKs_true]\n",
      ",      sum(case when [A0] is null then 1 else 0 end) as [A0]\n",
      ",      sum(case when [CFe-APOGEE] is null then 1 else 0 end) as [CFe-APOGEE]\n",
      ",      sum(case when [CaFe-APOGEE] is null then 1 else 0 end) as [CaFe-APOGEE]\n",
      ",      sum(case when [FeH-APOGEE] is null then 1 else 0 end) as [FeH-APOGEE]\n",
      ",      sum(case when [MgFe-APOGEE] is null then 1 else 0 end) as [MgFe-APOGEE]\n",
      ",      sum(case when [NFe-APOGEE] is null then 1 else 0 end) as [NFe-APOGEE]\n",
      ",      sum(case when [OFe-APOGEE] is null then 1 else 0 end) as [OFe-APOGEE]\n",
      ",      sum(case when [SFe-APOGEE] is null then 1 else 0 end) as [SFe-APOGEE]\n",
      ",      sum(case when [SiFe-APOGEE] is null then 1 else 0 end) as [SiFe-APOGEE]\n",
      ",      sum(case when [a_g_bp_val] is null then 1 else 0 end) as [a_g_bp_val]\n",
      ",      sum(case when [a_g_rp_val] is null then 1 else 0 end) as [a_g_rp_val]\n",
      ",      sum(case when [a_g_val] is null then 1 else 0 end) as [a_g_val]\n",
      ",      sum(case when [age] is null then 1 else 0 end) as [age]\n",
      ",      sum(case when [alpha] is null then 1 else 0 end) as [alpha]\n",
      ",      sum(case when [b] is null then 1 else 0 end) as [b]\n",
      ",      sum(case when [b_true] is null then 1 else 0 end) as [b_true]\n",
      ",      sum(case when [bp_g] is null then 1 else 0 end) as [bp_g]\n",
      ",      sum(case when [bp_g_int] is null then 1 else 0 end) as [bp_g_int]\n",
      ",      sum(case when [bp_g_true] is null then 1 else 0 end) as [bp_g_true]\n",
      ",      sum(case when [bp_rp] is null then 1 else 0 end) as [bp_rp]\n",
      ",      sum(case when [bp_rp_int] is null then 1 else 0 end) as [bp_rp_int]\n",
      ",      sum(case when [bp_rp_true] is null then 1 else 0 end) as [bp_rp_true]\n",
      ",      sum(case when [calcium] is null then 1 else 0 end) as [calcium]\n",
      ",      sum(case when [carbon] is null then 1 else 0 end) as [carbon]\n",
      ",      sum(case when [dec] is null then 1 else 0 end) as [dec]\n",
      ",      sum(case when [dec_error] is null then 1 else 0 end) as [dec_error]\n",
      ",      sum(case when [dec_true] is null then 1 else 0 end) as [dec_true]\n",
      ",      sum(case when [dhel_true] is null then 1 else 0 end) as [dhel_true]\n",
      ",      sum(case when [dmod_true] is null then 1 else 0 end) as [dmod_true]\n",
      ",      sum(case when [e_bp_min_rp_val] is null then 1 else 0 end) as [e_bp_min_rp_val]\n",
      ",      sum(case when [ebv] is null then 1 else 0 end) as [ebv]\n",
      ",      sum(case when [feh] is null then 1 else 0 end) as [feh]\n",
      ",      sum(case when [g_rp] is null then 1 else 0 end) as [g_rp]\n",
      ",      sum(case when [g_rp_int] is null then 1 else 0 end) as [g_rp_int]\n",
      ",      sum(case when [g_rp_true] is null then 1 else 0 end) as [g_rp_true]\n",
      ",      sum(case when [helium] is null then 1 else 0 end) as [helium]\n",
      ",      sum(case when [l] is null then 1 else 0 end) as [l]\n",
      ",      sum(case when [l_true] is null then 1 else 0 end) as [l_true]\n",
      ",      sum(case when [logg] is null then 1 else 0 end) as [logg]\n",
      ",      sum(case when [lognh] is null then 1 else 0 end) as [lognh]\n",
      ",      sum(case when [lum_val] is null then 1 else 0 end) as [lum_val]\n",
      ",      sum(case when [mact] is null then 1 else 0 end) as [mact]\n",
      ",      sum(case when [magnesium] is null then 1 else 0 end) as [magnesium]\n",
      ",      sum(case when [mini] is null then 1 else 0 end) as [mini]\n",
      ",      sum(case when [mtip] is null then 1 else 0 end) as [mtip]\n",
      ",      sum(case when [neon] is null then 1 else 0 end) as [neon]\n",
      ",      sum(case when [nitrogen] is null then 1 else 0 end) as [nitrogen]\n",
      ",      sum(case when [oxygen] is null then 1 else 0 end) as [oxygen]\n",
      ",      sum(case when [parallax] is null then 1 else 0 end) as [parallax]\n",
      ",      sum(case when [parallax_error] is null then 1 else 0 end) as [parallax_error]\n",
      ",      sum(case when [parallax_over_error] is null then 1 else 0 end) as [parallax_over_error]\n",
      ",      sum(case when [parallax_true] is null then 1 else 0 end) as [parallax_true]\n",
      ",      sum(case when [parentid] is null then 1 else 0 end) as [parentid]\n",
      ",      sum(case when [partid] is null then 1 else 0 end) as [partid]\n",
      ",      sum(case when [phot_bp_mean_mag] is null then 1 else 0 end) as [phot_bp_mean_mag]\n",
      ",      sum(case when [phot_bp_mean_mag_error] is null then 1 else 0 end) as [phot_bp_mean_mag_error]\n",
      ",      sum(case when [phot_bp_mean_mag_int] is null then 1 else 0 end) as [phot_bp_mean_mag_int]\n",
      ",      sum(case when [phot_bp_mean_mag_true] is null then 1 else 0 end) as [phot_bp_mean_mag_true]\n",
      ",      sum(case when [phot_g_mean_mag] is null then 1 else 0 end) as [phot_g_mean_mag]\n",
      ",      sum(case when [phot_g_mean_mag_error] is null then 1 else 0 end) as [phot_g_mean_mag_error]\n",
      ",      sum(case when [phot_g_mean_mag_int] is null then 1 else 0 end) as [phot_g_mean_mag_int]\n",
      ",      sum(case when [phot_g_mean_mag_true] is null then 1 else 0 end) as [phot_g_mean_mag_true]\n",
      ",      sum(case when [phot_rp_mean_mag] is null then 1 else 0 end) as [phot_rp_mean_mag]\n",
      ",      sum(case when [phot_rp_mean_mag_error] is null then 1 else 0 end) as [phot_rp_mean_mag_error]\n",
      ",      sum(case when [phot_rp_mean_mag_int] is null then 1 else 0 end) as [phot_rp_mean_mag_int]\n",
      ",      sum(case when [phot_rp_mean_mag_true] is null then 1 else 0 end) as [phot_rp_mean_mag_true]\n",
      ",      sum(case when [pmb_true] is null then 1 else 0 end) as [pmb_true]\n",
      ",      sum(case when [pmdec] is null then 1 else 0 end) as [pmdec]\n",
      ",      sum(case when [pmdec_error] is null then 1 else 0 end) as [pmdec_error]\n",
      ",      sum(case when [pmdec_true] is null then 1 else 0 end) as [pmdec_true]\n",
      ",      sum(case when [pml_true] is null then 1 else 0 end) as [pml_true]\n",
      ",      sum(case when [pmra] is null then 1 else 0 end) as [pmra]\n",
      ",      sum(case when [pmra_error] is null then 1 else 0 end) as [pmra_error]\n",
      ",      sum(case when [pmra_true] is null then 1 else 0 end) as [pmra_true]\n",
      ",      sum(case when [px_true] is null then 1 else 0 end) as [px_true]\n",
      ",      sum(case when [py_true] is null then 1 else 0 end) as [py_true]\n",
      ",      sum(case when [pz_true] is null then 1 else 0 end) as [pz_true]\n",
      ",      sum(case when [ra] is null then 1 else 0 end) as [ra]\n",
      ",      sum(case when [ra_error] is null then 1 else 0 end) as [ra_error]\n",
      ",      sum(case when [ra_true] is null then 1 else 0 end) as [ra_true]\n",
      ",      sum(case when [radial_velocity] is null then 1 else 0 end) as [radial_velocity]\n",
      ",      sum(case when [radial_velocity_error] is null then 1 else 0 end) as [radial_velocity_error]\n",
      ",      sum(case when [radial_velocity_true] is null then 1 else 0 end) as [radial_velocity_true]\n",
      ",      sum(case when [random_index] is null then 1 else 0 end) as [random_index]\n",
      ",      sum(case when [silicon] is null then 1 else 0 end) as [silicon]\n",
      ",      sum(case when [sulphur] is null then 1 else 0 end) as [sulphur]\n",
      ",      sum(case when [teff_val] is null then 1 else 0 end) as [teff_val]\n",
      ",      sum(case when [vx_true] is null then 1 else 0 end) as [vx_true]\n",
      ",      sum(case when [vy_true] is null then 1 else 0 end) as [vy_true]\n",
      ",      sum(case when [vz_true] is null then 1 else 0 end) as [vz_true] \n",
      "  from TEST_M12i_v2 \n"
     ]
    }
   ],
   "source": [
    "# query for counts of nulls for each column\n",
    "columns='\\n,      '.join([f\"sum(case when [{key}] is null then 1 else 0 end) as [{key}]\" for key in cols])\n",
    "newline='\\n'\n",
    "sql=f\"\"\"\n",
    "select {columns} \n",
    "  from {TABLE} \"\"\"\n",
    "print(sql)"
   ]
  },
  {
   "cell_type": "code",
   "execution_count": 62,
   "metadata": {},
   "outputs": [],
   "source": [
    "df=cj.executeQuery(sql,\"ApogeeFire\")"
   ]
  },
  {
   "cell_type": "code",
   "execution_count": 63,
   "metadata": {},
   "outputs": [
    {
     "name": "stdout",
     "output_type": "stream",
     "text": [
      "CFe-APOGEE \t\t 5109\n",
      "CaFe-APOGEE \t\t 5109\n",
      "FeH-APOGEE \t\t 5109\n",
      "MgFe-APOGEE \t\t 5109\n",
      "NFe-APOGEE \t\t 5109\n",
      "OFe-APOGEE \t\t 5109\n",
      "SFe-APOGEE \t\t 5109\n",
      "SiFe-APOGEE \t\t 5109\n",
      "radial_velocity \t\t 9976\n",
      "radial_velocity_error \t\t 9976\n"
     ]
    }
   ],
   "source": [
    "row=df.iloc[0]\n",
    "for k in df.columns:\n",
    "    if row[k] != 0:\n",
    "        print(k,'\\t\\t',row[k])"
   ]
  },
  {
   "cell_type": "code",
   "execution_count": null,
   "metadata": {},
   "outputs": [],
   "source": []
  }
 ],
 "metadata": {
  "kernelspec": {
   "display_name": "Python 3.8 (py38)",
   "language": "python",
   "name": "py38"
  },
  "language_info": {
   "codemirror_mode": {
    "name": "ipython",
    "version": 3
   },
   "file_extension": ".py",
   "mimetype": "text/x-python",
   "name": "python",
   "nbconvert_exporter": "python",
   "pygments_lexer": "ipython3",
   "version": "3.8.5"
  }
 },
 "nbformat": 4,
 "nbformat_minor": 4
}
